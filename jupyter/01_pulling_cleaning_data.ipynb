{
 "cells": [
  {
   "cell_type": "markdown",
   "metadata": {},
   "source": [
    "# 01_pulling_cleaning_data\n",
    "A notebook to ingest various local election data, standardise it and export it. \n",
    "\n",
    "In order to standardise the 2022 data (not at the ward-level, we may want to consider imputing ward-level scores based on previous results?)\n",
    "\n",
    "Election result data: \n",
    "- 2018 local election results, ward-level\n",
    "- 2021 local election results, ward-level\n",
    "- 2022 local election results, council-level\n",
    "\n",
    "Census data\n",
    "- 2021 top-level census insights\n",
    "- 2021-2011 population change, from census\n",
    "\n",
    "NOTE: Using Python 3.10\n",
    "\n",
    "NL, 10/07/22"
   ]
  },
  {
   "cell_type": "markdown",
   "metadata": {},
   "source": [
    "## IMPORTS"
   ]
  },
  {
   "cell_type": "code",
   "execution_count": 245,
   "metadata": {},
   "outputs": [],
   "source": [
    "import pandas as pd\n",
    "import numpy as np"
   ]
  },
  {
   "cell_type": "markdown",
   "metadata": {},
   "source": [
    "## PATHS"
   ]
  },
  {
   "cell_type": "markdown",
   "metadata": {},
   "source": [
    "Add paths to data, URLS, etc. below as required"
   ]
  },
  {
   "cell_type": "code",
   "execution_count": 16,
   "metadata": {},
   "outputs": [],
   "source": [
    "DATA_PATH = '../data/'"
   ]
  },
  {
   "cell_type": "code",
   "execution_count": 67,
   "metadata": {},
   "outputs": [],
   "source": [
    "WARD_RESULTS_2018_RAW = DATA_PATH+'raw/2018_LocalElectionResults_AndrewTealLeap.csv'\n",
    "WARD_RESULTS_2021_RAW = DATA_PATH+'raw/2021_LocalElectionResullts_BritainElectis.xlsx'\n",
    "COUNCIL_RESULTS_2022_RAW = DATA_PATH+'raw/2022_LocalElectionResults_CouncilLevel.xlsx'"
   ]
  },
  {
   "cell_type": "code",
   "execution_count": 59,
   "metadata": {},
   "outputs": [],
   "source": [
    "CENSUS_2021_2011_POP_CHANGE = DATA_PATH+'raw/2021_2011_Census_population_change.xlsx'\n",
    "CENSUS_2021_TOP_LEVEL_FINDINGS = DATA_PATH+'raw/2021_Census_TopLevelSummaryStats.xlsx'"
   ]
  },
  {
   "cell_type": "markdown",
   "metadata": {},
   "source": [
    "## INIT / DATA IN"
   ]
  },
  {
   "cell_type": "code",
   "execution_count": 143,
   "metadata": {},
   "outputs": [],
   "source": [
    "colnames_2018 = ['local_authority', 'local_authority_ons_code', 'ward', 'ward_ons_code', 'candidate_name', 'party', 'n_votes', 'cndidate_won']"
   ]
  },
  {
   "cell_type": "code",
   "execution_count": 144,
   "metadata": {},
   "outputs": [],
   "source": [
    "colnames_2021_base = ['ward_ons_code', 'local_authority', 'ward', 'year_last_election', 'winner_last_election', 'winner_2021']\n",
    "party_names = ['con', 'lab', 'ldem', 'ukip', 'grn', 'snp', 'pc', 'ind', 'indgrp', 'reg', 'resass', 'oth']\n",
    "suffixes = ['_2021_vote', '_previous_vote', '_2021_perc', '_previous_perc']"
   ]
  },
  {
   "cell_type": "code",
   "execution_count": 145,
   "metadata": {},
   "outputs": [],
   "source": [
    "party_columns = []\n",
    "for suffix in suffixes:\n",
    "    for party in party_names:\n",
    "        tmp = party+suffix\n",
    "        party_columns.append(tmp)\n",
    "\n",
    "colnames_2021 = colnames_2021_base+party_columns"
   ]
  },
  {
   "cell_type": "code",
   "execution_count": 228,
   "metadata": {},
   "outputs": [],
   "source": [
    "raw_results_2018_df = pd.read_csv(WARD_RESULTS_2018_RAW, header=0, names=colnames_2018)\n",
    "raw_results_2021_df = pd.read_excel(WARD_RESULTS_2021_RAW, sheet_name='results', header=None, skiprows=2, names=colnames_2021)"
   ]
  },
  {
   "cell_type": "markdown",
   "metadata": {},
   "source": [
    "Note: our 2022 results are only at the council level. For this purpose, it might make sense to collapse our other results data to the council level also."
   ]
  },
  {
   "cell_type": "code",
   "execution_count": 71,
   "metadata": {},
   "outputs": [],
   "source": [
    "colnames_2022 = [\n",
    "    'ons_code', \n",
    "    'council_name', \n",
    "    'boundary_change', \n",
    "    'new_council', \n",
    "    'council_type', \n",
    "    'seats', \n",
    "    'region', \n",
    "    'con_pre', \n",
    "    'lab_pre', \n",
    "    'ldem_pre', \n",
    "    'grn_pre', \n",
    "    'oth_pre', \n",
    "    'total_pre', \n",
    "    'control_pre', \n",
    "    'con_post', \n",
    "    'lab_post', \n",
    "    'ldem_post', \n",
    "    'grn_post', \n",
    "    'oth_post', \n",
    "    'vacant_post', \n",
    "    'total_post', \n",
    "    'control_post', \n",
    "    'con_net', \n",
    "    'lab_net', \n",
    "    'ldem_net', \n",
    "    'grn_net', \n",
    "    'oth_net']"
   ]
  },
  {
   "cell_type": "code",
   "execution_count": 87,
   "metadata": {},
   "outputs": [],
   "source": [
    "raw_results_2022_df = pd.read_excel(COUNCIL_RESULTS_2022_RAW, skiprows=1, names=colnames_2022)"
   ]
  },
  {
   "cell_type": "code",
   "execution_count": 90,
   "metadata": {},
   "outputs": [],
   "source": [
    "raw_results_2022_df = raw_results_2022_df.replace('-', np.NaN)"
   ]
  },
  {
   "cell_type": "markdown",
   "metadata": {},
   "source": [
    "For census files, it seems that we need to do data imports from row 6 of the files."
   ]
  },
  {
   "cell_type": "code",
   "execution_count": 64,
   "metadata": {},
   "outputs": [],
   "source": [
    "census_2021_11_pop_change_df = pd.read_excel(CENSUS_2021_2011_POP_CHANGE, sheet_name='Population change', skiprows=5)\n",
    "census_2021_11_pop_change_df = census_2021_11_pop_change_df.rename(columns={'Area code [note 2]': 'area_code',\n",
    "'Area name' : 'area_name', 'All persons, 2011' : 'n_people_2011', 'All persons, 2021' : 'n_people_2021', 'Percentage change' : 'perc_change'})"
   ]
  },
  {
   "cell_type": "markdown",
   "metadata": {},
   "source": [
    "## DATA WRANGLING / TRANSFORMATION"
   ]
  },
  {
   "cell_type": "markdown",
   "metadata": {},
   "source": [
    "let's create some council-level files for our 2018 and 2021 data, so as to ensure comparability. \n",
    "\n",
    "let's also save these files for future use. "
   ]
  },
  {
   "cell_type": "markdown",
   "metadata": {},
   "source": [
    "1. 2018. ward-level -> council-level"
   ]
  },
  {
   "cell_type": "code",
   "execution_count": 229,
   "metadata": {},
   "outputs": [],
   "source": [
    "party_names_2018 = {\n",
    "    'C' : 'con',\n",
    "    'Lab' : 'lab',\n",
    "    'LD' : 'ldem',\n",
    "    'Grn' : 'grn',\n",
    "    'UKIP' : 'ukip',\n",
    "    'Ind' : 'ind'\n",
    "}"
   ]
  },
  {
   "cell_type": "code",
   "execution_count": 230,
   "metadata": {},
   "outputs": [],
   "source": [
    "# change names of main parties to our standardised format\n",
    "for k,v in party_names_2018.items():\n",
    "    raw_results_2018_df.loc[raw_results_2018_df['party']==k, 'party'] = v"
   ]
  },
  {
   "cell_type": "code",
   "execution_count": 231,
   "metadata": {},
   "outputs": [],
   "source": [
    "# rename all others to 'other'\n",
    "raw_results_2018_df.loc[~raw_results_2018_df['party'].isin(party_names_2018.values()), 'party'] = 'other'"
   ]
  },
  {
   "cell_type": "code",
   "execution_count": 232,
   "metadata": {},
   "outputs": [],
   "source": [
    "tmp_df = raw_results_2018_df.groupby(['local_authority', 'party']).sum().reset_index()"
   ]
  },
  {
   "cell_type": "code",
   "execution_count": 233,
   "metadata": {},
   "outputs": [],
   "source": [
    "attach_df = tmp_df.pivot(columns='party', values='n_votes').reset_index(drop=True)"
   ]
  },
  {
   "cell_type": "code",
   "execution_count": 234,
   "metadata": {},
   "outputs": [],
   "source": [
    "tmp_df = pd.concat([tmp_df, attach_df], axis=1)"
   ]
  },
  {
   "cell_type": "code",
   "execution_count": 235,
   "metadata": {},
   "outputs": [],
   "source": [
    "council_results_2018_df = tmp_df.groupby('local_authority').sum()\n",
    "council_results_2018_df = council_results_2018_df.reset_index()"
   ]
  },
  {
   "cell_type": "code",
   "execution_count": 214,
   "metadata": {},
   "outputs": [],
   "source": [
    "council_results_2018_df = council_results_2018_df[['local_authority', 'n_votes', 'con', 'grn', 'ind', 'lab', 'ldem', 'other', 'ukip']]\n"
   ]
  },
  {
   "cell_type": "code",
   "execution_count": 236,
   "metadata": {},
   "outputs": [],
   "source": [
    "# add in the council-level ons code\n",
    "council_ons_merge_points_df = raw_results_2018_df[['local_authority', 'local_authority_ons_code']].drop_duplicates().reset_index(drop=True)"
   ]
  },
  {
   "cell_type": "code",
   "execution_count": 239,
   "metadata": {},
   "outputs": [],
   "source": [
    "council_results_2018_df = council_results_2018_df.merge(council_ons_merge_points_df, on='local_authority', how='left')"
   ]
  },
  {
   "cell_type": "code",
   "execution_count": 242,
   "metadata": {},
   "outputs": [],
   "source": [
    "# write out this as formatted\n",
    "council_results_2018_df.to_csv(DATA_PATH+'fmtd/2018_council_level_results.csv', index=False)"
   ]
  },
  {
   "cell_type": "markdown",
   "metadata": {},
   "source": [
    "2. 2021 data, council level results"
   ]
  },
  {
   "cell_type": "code",
   "execution_count": 244,
   "metadata": {},
   "outputs": [
    {
     "data": {
      "text/html": [
       "<div>\n",
       "<style scoped>\n",
       "    .dataframe tbody tr th:only-of-type {\n",
       "        vertical-align: middle;\n",
       "    }\n",
       "\n",
       "    .dataframe tbody tr th {\n",
       "        vertical-align: top;\n",
       "    }\n",
       "\n",
       "    .dataframe thead th {\n",
       "        text-align: right;\n",
       "    }\n",
       "</style>\n",
       "<table border=\"1\" class=\"dataframe\">\n",
       "  <thead>\n",
       "    <tr style=\"text-align: right;\">\n",
       "      <th></th>\n",
       "      <th>con_2021_vote</th>\n",
       "      <th>lab_2021_vote</th>\n",
       "      <th>grn_2021_vote</th>\n",
       "      <th>snp_2021_vote</th>\n",
       "      <th>pc_2021_vote</th>\n",
       "      <th>ind_2021_vote</th>\n",
       "      <th>indgrp_2021_vote</th>\n",
       "      <th>resass_2021_vote</th>\n",
       "      <th>oth_2021_vote</th>\n",
       "      <th>con_previous_vote</th>\n",
       "      <th>...</th>\n",
       "      <th>ldem_previous_perc</th>\n",
       "      <th>ukip_previous_perc</th>\n",
       "      <th>grn_previous_perc</th>\n",
       "      <th>snp_previous_perc</th>\n",
       "      <th>pc_previous_perc</th>\n",
       "      <th>ind_previous_perc</th>\n",
       "      <th>indgrp_previous_perc</th>\n",
       "      <th>reg_previous_perc</th>\n",
       "      <th>resass_previous_perc</th>\n",
       "      <th>oth_previous_perc</th>\n",
       "    </tr>\n",
       "    <tr>\n",
       "      <th>local_authority</th>\n",
       "      <th></th>\n",
       "      <th></th>\n",
       "      <th></th>\n",
       "      <th></th>\n",
       "      <th></th>\n",
       "      <th></th>\n",
       "      <th></th>\n",
       "      <th></th>\n",
       "      <th></th>\n",
       "      <th></th>\n",
       "      <th></th>\n",
       "      <th></th>\n",
       "      <th></th>\n",
       "      <th></th>\n",
       "      <th></th>\n",
       "      <th></th>\n",
       "      <th></th>\n",
       "      <th></th>\n",
       "      <th></th>\n",
       "      <th></th>\n",
       "      <th></th>\n",
       "    </tr>\n",
       "  </thead>\n",
       "  <tbody>\n",
       "    <tr>\n",
       "      <th>Adur</th>\n",
       "      <td>8058.0</td>\n",
       "      <td>5610.0</td>\n",
       "      <td>2436.0</td>\n",
       "      <td>0.0</td>\n",
       "      <td>0.0</td>\n",
       "      <td>1122.0</td>\n",
       "      <td>0.0</td>\n",
       "      <td>0.0</td>\n",
       "      <td>0.0</td>\n",
       "      <td>5729.0</td>\n",
       "      <td>...</td>\n",
       "      <td>100.769288</td>\n",
       "      <td>324.029660</td>\n",
       "      <td>43.546296</td>\n",
       "      <td>0.0</td>\n",
       "      <td>0.0</td>\n",
       "      <td>82.278779</td>\n",
       "      <td>0.00000</td>\n",
       "      <td>0.0</td>\n",
       "      <td>0.000000</td>\n",
       "      <td>0.000000</td>\n",
       "    </tr>\n",
       "    <tr>\n",
       "      <th>Allerdale</th>\n",
       "      <td>2390.0</td>\n",
       "      <td>1729.0</td>\n",
       "      <td>116.0</td>\n",
       "      <td>0.0</td>\n",
       "      <td>0.0</td>\n",
       "      <td>1465.0</td>\n",
       "      <td>0.0</td>\n",
       "      <td>0.0</td>\n",
       "      <td>33.0</td>\n",
       "      <td>2025.0</td>\n",
       "      <td>...</td>\n",
       "      <td>0.000000</td>\n",
       "      <td>0.000000</td>\n",
       "      <td>33.127226</td>\n",
       "      <td>0.0</td>\n",
       "      <td>0.0</td>\n",
       "      <td>93.639423</td>\n",
       "      <td>34.95935</td>\n",
       "      <td>0.0</td>\n",
       "      <td>0.000000</td>\n",
       "      <td>0.000000</td>\n",
       "    </tr>\n",
       "    <tr>\n",
       "      <th>Amber Valley</th>\n",
       "      <td>14244.0</td>\n",
       "      <td>9218.0</td>\n",
       "      <td>2077.0</td>\n",
       "      <td>0.0</td>\n",
       "      <td>0.0</td>\n",
       "      <td>0.0</td>\n",
       "      <td>0.0</td>\n",
       "      <td>0.0</td>\n",
       "      <td>18.0</td>\n",
       "      <td>8418.0</td>\n",
       "      <td>...</td>\n",
       "      <td>35.864406</td>\n",
       "      <td>260.148826</td>\n",
       "      <td>65.425321</td>\n",
       "      <td>0.0</td>\n",
       "      <td>0.0</td>\n",
       "      <td>7.201759</td>\n",
       "      <td>0.00000</td>\n",
       "      <td>0.0</td>\n",
       "      <td>0.000000</td>\n",
       "      <td>2.245024</td>\n",
       "    </tr>\n",
       "    <tr>\n",
       "      <th>Arun</th>\n",
       "      <td>1037.0</td>\n",
       "      <td>292.0</td>\n",
       "      <td>93.0</td>\n",
       "      <td>0.0</td>\n",
       "      <td>0.0</td>\n",
       "      <td>132.0</td>\n",
       "      <td>0.0</td>\n",
       "      <td>0.0</td>\n",
       "      <td>45.0</td>\n",
       "      <td>975.0</td>\n",
       "      <td>...</td>\n",
       "      <td>90.995785</td>\n",
       "      <td>0.000000</td>\n",
       "      <td>0.000000</td>\n",
       "      <td>0.0</td>\n",
       "      <td>0.0</td>\n",
       "      <td>31.933439</td>\n",
       "      <td>0.00000</td>\n",
       "      <td>0.0</td>\n",
       "      <td>0.000000</td>\n",
       "      <td>0.000000</td>\n",
       "    </tr>\n",
       "    <tr>\n",
       "      <th>Ashfield</th>\n",
       "      <td>426.0</td>\n",
       "      <td>857.0</td>\n",
       "      <td>0.0</td>\n",
       "      <td>0.0</td>\n",
       "      <td>0.0</td>\n",
       "      <td>0.0</td>\n",
       "      <td>2767.0</td>\n",
       "      <td>0.0</td>\n",
       "      <td>0.0</td>\n",
       "      <td>206.0</td>\n",
       "      <td>...</td>\n",
       "      <td>0.000000</td>\n",
       "      <td>7.109915</td>\n",
       "      <td>0.000000</td>\n",
       "      <td>0.0</td>\n",
       "      <td>0.0</td>\n",
       "      <td>153.754376</td>\n",
       "      <td>0.00000</td>\n",
       "      <td>0.0</td>\n",
       "      <td>0.000000</td>\n",
       "      <td>0.000000</td>\n",
       "    </tr>\n",
       "    <tr>\n",
       "      <th>...</th>\n",
       "      <td>...</td>\n",
       "      <td>...</td>\n",
       "      <td>...</td>\n",
       "      <td>...</td>\n",
       "      <td>...</td>\n",
       "      <td>...</td>\n",
       "      <td>...</td>\n",
       "      <td>...</td>\n",
       "      <td>...</td>\n",
       "      <td>...</td>\n",
       "      <td>...</td>\n",
       "      <td>...</td>\n",
       "      <td>...</td>\n",
       "      <td>...</td>\n",
       "      <td>...</td>\n",
       "      <td>...</td>\n",
       "      <td>...</td>\n",
       "      <td>...</td>\n",
       "      <td>...</td>\n",
       "      <td>...</td>\n",
       "      <td>...</td>\n",
       "    </tr>\n",
       "    <tr>\n",
       "      <th>Wolverhampton</th>\n",
       "      <td>24624.0</td>\n",
       "      <td>28700.0</td>\n",
       "      <td>3609.0</td>\n",
       "      <td>0.0</td>\n",
       "      <td>0.0</td>\n",
       "      <td>217.0</td>\n",
       "      <td>0.0</td>\n",
       "      <td>0.0</td>\n",
       "      <td>199.0</td>\n",
       "      <td>14156.0</td>\n",
       "      <td>...</td>\n",
       "      <td>85.722468</td>\n",
       "      <td>183.024284</td>\n",
       "      <td>49.528142</td>\n",
       "      <td>0.0</td>\n",
       "      <td>0.0</td>\n",
       "      <td>27.039240</td>\n",
       "      <td>0.00000</td>\n",
       "      <td>0.0</td>\n",
       "      <td>0.000000</td>\n",
       "      <td>23.204440</td>\n",
       "    </tr>\n",
       "    <tr>\n",
       "      <th>Worcester</th>\n",
       "      <td>9189.0</td>\n",
       "      <td>6430.0</td>\n",
       "      <td>5289.0</td>\n",
       "      <td>0.0</td>\n",
       "      <td>0.0</td>\n",
       "      <td>0.0</td>\n",
       "      <td>0.0</td>\n",
       "      <td>0.0</td>\n",
       "      <td>329.0</td>\n",
       "      <td>6578.0</td>\n",
       "      <td>...</td>\n",
       "      <td>41.652159</td>\n",
       "      <td>168.613099</td>\n",
       "      <td>178.763967</td>\n",
       "      <td>0.0</td>\n",
       "      <td>0.0</td>\n",
       "      <td>0.000000</td>\n",
       "      <td>0.00000</td>\n",
       "      <td>0.0</td>\n",
       "      <td>2.234793</td>\n",
       "      <td>2.540330</td>\n",
       "    </tr>\n",
       "    <tr>\n",
       "      <th>Worcestershire</th>\n",
       "      <td>79946.0</td>\n",
       "      <td>30632.0</td>\n",
       "      <td>18139.0</td>\n",
       "      <td>0.0</td>\n",
       "      <td>0.0</td>\n",
       "      <td>13196.0</td>\n",
       "      <td>0.0</td>\n",
       "      <td>0.0</td>\n",
       "      <td>3273.0</td>\n",
       "      <td>73205.0</td>\n",
       "      <td>...</td>\n",
       "      <td>659.827173</td>\n",
       "      <td>231.455790</td>\n",
       "      <td>373.485167</td>\n",
       "      <td>0.0</td>\n",
       "      <td>0.0</td>\n",
       "      <td>193.974663</td>\n",
       "      <td>0.00000</td>\n",
       "      <td>0.0</td>\n",
       "      <td>0.000000</td>\n",
       "      <td>163.189668</td>\n",
       "    </tr>\n",
       "    <tr>\n",
       "      <th>Worthing</th>\n",
       "      <td>13979.0</td>\n",
       "      <td>10797.0</td>\n",
       "      <td>2990.0</td>\n",
       "      <td>0.0</td>\n",
       "      <td>0.0</td>\n",
       "      <td>0.0</td>\n",
       "      <td>0.0</td>\n",
       "      <td>0.0</td>\n",
       "      <td>46.0</td>\n",
       "      <td>9857.0</td>\n",
       "      <td>...</td>\n",
       "      <td>172.427367</td>\n",
       "      <td>278.786760</td>\n",
       "      <td>95.226941</td>\n",
       "      <td>0.0</td>\n",
       "      <td>0.0</td>\n",
       "      <td>0.000000</td>\n",
       "      <td>0.00000</td>\n",
       "      <td>0.0</td>\n",
       "      <td>0.000000</td>\n",
       "      <td>0.000000</td>\n",
       "    </tr>\n",
       "    <tr>\n",
       "      <th>Wychavon</th>\n",
       "      <td>632.0</td>\n",
       "      <td>0.0</td>\n",
       "      <td>316.0</td>\n",
       "      <td>0.0</td>\n",
       "      <td>0.0</td>\n",
       "      <td>0.0</td>\n",
       "      <td>0.0</td>\n",
       "      <td>0.0</td>\n",
       "      <td>0.0</td>\n",
       "      <td>470.0</td>\n",
       "      <td>...</td>\n",
       "      <td>0.000000</td>\n",
       "      <td>0.000000</td>\n",
       "      <td>39.820743</td>\n",
       "      <td>0.0</td>\n",
       "      <td>0.0</td>\n",
       "      <td>0.000000</td>\n",
       "      <td>0.00000</td>\n",
       "      <td>0.0</td>\n",
       "      <td>0.000000</td>\n",
       "      <td>0.000000</td>\n",
       "    </tr>\n",
       "  </tbody>\n",
       "</table>\n",
       "<p>250 rows × 45 columns</p>\n",
       "</div>"
      ],
      "text/plain": [
       "                 con_2021_vote  lab_2021_vote  grn_2021_vote  snp_2021_vote  \\\n",
       "local_authority                                                               \n",
       "Adur                    8058.0         5610.0         2436.0            0.0   \n",
       "Allerdale               2390.0         1729.0          116.0            0.0   \n",
       "Amber Valley           14244.0         9218.0         2077.0            0.0   \n",
       "Arun                    1037.0          292.0           93.0            0.0   \n",
       "Ashfield                 426.0          857.0            0.0            0.0   \n",
       "...                        ...            ...            ...            ...   \n",
       "Wolverhampton          24624.0        28700.0         3609.0            0.0   \n",
       "Worcester               9189.0         6430.0         5289.0            0.0   \n",
       "Worcestershire         79946.0        30632.0        18139.0            0.0   \n",
       "Worthing               13979.0        10797.0         2990.0            0.0   \n",
       "Wychavon                 632.0            0.0          316.0            0.0   \n",
       "\n",
       "                 pc_2021_vote  ind_2021_vote  indgrp_2021_vote  \\\n",
       "local_authority                                                  \n",
       "Adur                      0.0         1122.0               0.0   \n",
       "Allerdale                 0.0         1465.0               0.0   \n",
       "Amber Valley              0.0            0.0               0.0   \n",
       "Arun                      0.0          132.0               0.0   \n",
       "Ashfield                  0.0            0.0            2767.0   \n",
       "...                       ...            ...               ...   \n",
       "Wolverhampton             0.0          217.0               0.0   \n",
       "Worcester                 0.0            0.0               0.0   \n",
       "Worcestershire            0.0        13196.0               0.0   \n",
       "Worthing                  0.0            0.0               0.0   \n",
       "Wychavon                  0.0            0.0               0.0   \n",
       "\n",
       "                 resass_2021_vote  oth_2021_vote  con_previous_vote  ...  \\\n",
       "local_authority                                                      ...   \n",
       "Adur                          0.0            0.0             5729.0  ...   \n",
       "Allerdale                     0.0           33.0             2025.0  ...   \n",
       "Amber Valley                  0.0           18.0             8418.0  ...   \n",
       "Arun                          0.0           45.0              975.0  ...   \n",
       "Ashfield                      0.0            0.0              206.0  ...   \n",
       "...                           ...            ...                ...  ...   \n",
       "Wolverhampton                 0.0          199.0            14156.0  ...   \n",
       "Worcester                     0.0          329.0             6578.0  ...   \n",
       "Worcestershire                0.0         3273.0            73205.0  ...   \n",
       "Worthing                      0.0           46.0             9857.0  ...   \n",
       "Wychavon                      0.0            0.0              470.0  ...   \n",
       "\n",
       "                 ldem_previous_perc  ukip_previous_perc  grn_previous_perc  \\\n",
       "local_authority                                                              \n",
       "Adur                     100.769288          324.029660          43.546296   \n",
       "Allerdale                  0.000000            0.000000          33.127226   \n",
       "Amber Valley              35.864406          260.148826          65.425321   \n",
       "Arun                      90.995785            0.000000           0.000000   \n",
       "Ashfield                   0.000000            7.109915           0.000000   \n",
       "...                             ...                 ...                ...   \n",
       "Wolverhampton             85.722468          183.024284          49.528142   \n",
       "Worcester                 41.652159          168.613099         178.763967   \n",
       "Worcestershire           659.827173          231.455790         373.485167   \n",
       "Worthing                 172.427367          278.786760          95.226941   \n",
       "Wychavon                   0.000000            0.000000          39.820743   \n",
       "\n",
       "                 snp_previous_perc  pc_previous_perc  ind_previous_perc  \\\n",
       "local_authority                                                           \n",
       "Adur                           0.0               0.0          82.278779   \n",
       "Allerdale                      0.0               0.0          93.639423   \n",
       "Amber Valley                   0.0               0.0           7.201759   \n",
       "Arun                           0.0               0.0          31.933439   \n",
       "Ashfield                       0.0               0.0         153.754376   \n",
       "...                            ...               ...                ...   \n",
       "Wolverhampton                  0.0               0.0          27.039240   \n",
       "Worcester                      0.0               0.0           0.000000   \n",
       "Worcestershire                 0.0               0.0         193.974663   \n",
       "Worthing                       0.0               0.0           0.000000   \n",
       "Wychavon                       0.0               0.0           0.000000   \n",
       "\n",
       "                 indgrp_previous_perc  reg_previous_perc  \\\n",
       "local_authority                                            \n",
       "Adur                          0.00000                0.0   \n",
       "Allerdale                    34.95935                0.0   \n",
       "Amber Valley                  0.00000                0.0   \n",
       "Arun                          0.00000                0.0   \n",
       "Ashfield                      0.00000                0.0   \n",
       "...                               ...                ...   \n",
       "Wolverhampton                 0.00000                0.0   \n",
       "Worcester                     0.00000                0.0   \n",
       "Worcestershire                0.00000                0.0   \n",
       "Worthing                      0.00000                0.0   \n",
       "Wychavon                      0.00000                0.0   \n",
       "\n",
       "                 resass_previous_perc  oth_previous_perc  \n",
       "local_authority                                           \n",
       "Adur                         0.000000           0.000000  \n",
       "Allerdale                    0.000000           0.000000  \n",
       "Amber Valley                 0.000000           2.245024  \n",
       "Arun                         0.000000           0.000000  \n",
       "Ashfield                     0.000000           0.000000  \n",
       "...                               ...                ...  \n",
       "Wolverhampton                0.000000          23.204440  \n",
       "Worcester                    2.234793           2.540330  \n",
       "Worcestershire               0.000000         163.189668  \n",
       "Worthing                     0.000000           0.000000  \n",
       "Wychavon                     0.000000           0.000000  \n",
       "\n",
       "[250 rows x 45 columns]"
      ]
     },
     "execution_count": 244,
     "metadata": {},
     "output_type": "execute_result"
    }
   ],
   "source": [
    "raw_results_2021_df.groupby('local_authority').sum()"
   ]
  },
  {
   "cell_type": "markdown",
   "metadata": {},
   "source": [
    "NL, 10/07/22 -- to do: run 2 separate groupby's on the dataset above, one for sum, one for percent, merge the two into one DF. Then: do some actual analysis. "
   ]
  },
  {
   "cell_type": "markdown",
   "metadata": {},
   "source": []
  }
 ],
 "metadata": {
  "kernelspec": {
   "display_name": "Python 3.10.0 ('.venv': venv)",
   "language": "python",
   "name": "python3"
  },
  "language_info": {
   "codemirror_mode": {
    "name": "ipython",
    "version": 3
   },
   "file_extension": ".py",
   "mimetype": "text/x-python",
   "name": "python",
   "nbconvert_exporter": "python",
   "pygments_lexer": "ipython3",
   "version": "3.10.0"
  },
  "orig_nbformat": 4,
  "vscode": {
   "interpreter": {
    "hash": "58c52b13dbc5f1e69e0da3788beabbc494ea151a784d51ab4dd9d84e69f54857"
   }
  }
 },
 "nbformat": 4,
 "nbformat_minor": 2
}
