{
 "cells": [
  {
   "cell_type": "markdown",
   "metadata": {},
   "source": [
    "# 01_pulling_cleaning_data\n",
    "A notebook to ingest various local election data, standardise it and export it. \n",
    "\n",
    "In order to standardise the 2022 data (not at the ward-level, we may want to consider imputing ward-level scores based on previous results?)\n",
    "\n",
    "Data: \n",
    "- 2018 local election results, ward-level\n",
    "- 2021 local election results, ward-level\n",
    "- 2022 local election results, council-level\n",
    "\n",
    "NOTE: Using Python 3.10\n",
    "\n",
    "NL, 10/07/22"
   ]
  },
  {
   "cell_type": "markdown",
   "metadata": {},
   "source": [
    "## IMPORTS"
   ]
  },
  {
   "cell_type": "code",
   "execution_count": 4,
   "metadata": {},
   "outputs": [],
   "source": [
    "import pandas as pd\n",
    "import numpy as np\n",
    "\n",
    "from tqdm import tqdm"
   ]
  },
  {
   "cell_type": "markdown",
   "metadata": {},
   "source": [
    "## PATHS"
   ]
  },
  {
   "cell_type": "markdown",
   "metadata": {},
   "source": [
    "Add paths to data, URLS, etc. below as required"
   ]
  },
  {
   "cell_type": "code",
   "execution_count": 16,
   "metadata": {},
   "outputs": [],
   "source": [
    "DATA_PATH = '../data/'"
   ]
  },
  {
   "cell_type": "code",
   "execution_count": 67,
   "metadata": {},
   "outputs": [],
   "source": [
    "WARD_RESULTS_2018_RAW = DATA_PATH+'raw/2018_LocalElectionResults_AndrewTealLeap.csv'\n",
    "WARD_RESULTS_2021_RAW = DATA_PATH+'raw/2021_LocalElectionResullts_BritainElectis.xlsx'\n",
    "COUNCIL_RESULTS_2022_RAW = DATA_PATH+'raw/2022_LocalElectionResults_CouncilLevel.xlsx'"
   ]
  },
  {
   "cell_type": "code",
   "execution_count": 59,
   "metadata": {},
   "outputs": [],
   "source": [
    "CENSUS_2021_2011_POP_CHANGE = DATA_PATH+'raw/2021_2011_Census_population_change.xlsx'\n",
    "CENSUS_2021_TOP_LEVEL_FINDINGS = DATA_PATH+'raw/2021_Census_TopLevelSummaryStats.xlsx'"
   ]
  },
  {
   "cell_type": "markdown",
   "metadata": {},
   "source": [
    "## INIT / DATA IN"
   ]
  },
  {
   "cell_type": "code",
   "execution_count": 108,
   "metadata": {},
   "outputs": [],
   "source": [
    "colnames_2018 = ['local_authority', 'local_authority_ons_code', 'ward', 'ward_ons_code', 'candidate_name', 'party', 'n_votes', 'cndidate_won']"
   ]
  },
  {
   "cell_type": "code",
   "execution_count": 109,
   "metadata": {},
   "outputs": [],
   "source": [
    "colnames_2021_base = ['ward_ons_code', 'local_authority', 'ward', 'year_last_election', 'winner_last_election', 'winner_2021']\n",
    "party_names = ['con', 'lab', 'ldem', 'ukip', 'grn', 'snp', 'pc', 'ind', 'indgrp', 'reg', 'resass', 'oth']\n",
    "suffixes = ['_2021_vote', '_previous_vote', '_2021_perc', '_previous_perc']"
   ]
  },
  {
   "cell_type": "code",
   "execution_count": 110,
   "metadata": {},
   "outputs": [],
   "source": [
    "party_columns = []\n",
    "for suffix in suffixes:\n",
    "    for party in party_names:\n",
    "        tmp = party+suffix\n",
    "        party_columns.append(tmp)\n",
    "\n",
    "colnames_2021 = colnames_2021_base+party_columns"
   ]
  },
  {
   "cell_type": "code",
   "execution_count": 113,
   "metadata": {},
   "outputs": [],
   "source": [
    "raw_results_2018_df = pd.read_csv(WARD_RESULTS_2018_RAW, header=0, names=colnames_2018)\n",
    "raw_results_2021_df = pd.read_excel(WARD_RESULTS_2021_RAW, sheet_name='results', header=None, skiprows=2, names=colnames_2021)"
   ]
  },
  {
   "cell_type": "markdown",
   "metadata": {},
   "source": [
    "Note: our 2022 results are only at the council level. For this purpose, it might make sense to collapse our other results data to the council level also."
   ]
  },
  {
   "cell_type": "code",
   "execution_count": 71,
   "metadata": {},
   "outputs": [],
   "source": [
    "colnames_2022 = [\n",
    "    'ons_code', \n",
    "    'council_name', \n",
    "    'boundary_change', \n",
    "    'new_council', \n",
    "    'council_type', \n",
    "    'seats', \n",
    "    'region', \n",
    "    'con_pre', \n",
    "    'lab_pre', \n",
    "    'ldem_pre', \n",
    "    'grn_pre', \n",
    "    'oth_pre', \n",
    "    'total_pre', \n",
    "    'control_pre', \n",
    "    'con_post', \n",
    "    'lab_post', \n",
    "    'ldem_post', \n",
    "    'grn_post', \n",
    "    'oth_post', \n",
    "    'vacant_post', \n",
    "    'total_post', \n",
    "    'control_post', \n",
    "    'con_net', \n",
    "    'lab_net', \n",
    "    'ldem_net', \n",
    "    'grn_net', \n",
    "    'oth_net']"
   ]
  },
  {
   "cell_type": "code",
   "execution_count": 87,
   "metadata": {},
   "outputs": [],
   "source": [
    "raw_results_2022_df = pd.read_excel(COUNCIL_RESULTS_2022_RAW, skiprows=1, names=colnames_2022)"
   ]
  },
  {
   "cell_type": "code",
   "execution_count": 90,
   "metadata": {},
   "outputs": [],
   "source": [
    "raw_results_2022_df = raw_results_2022_df.replace('-', np.NaN)"
   ]
  },
  {
   "cell_type": "markdown",
   "metadata": {},
   "source": [
    "For census files, it seems that we need to do data imports from row 6 of the files."
   ]
  },
  {
   "cell_type": "code",
   "execution_count": 64,
   "metadata": {},
   "outputs": [],
   "source": [
    "census_2021_11_pop_change_df = pd.read_excel(CENSUS_2021_2011_POP_CHANGE, sheet_name='Population change', skiprows=5)\n",
    "census_2021_11_pop_change_df = census_2021_11_pop_change_df.rename(columns={'Area code [note 2]': 'area_code',\n",
    "'Area name' : 'area_name', 'All persons, 2011' : 'n_people_2011', 'All persons, 2021' : 'n_people_2021', 'Percentage change' : 'perc_change'})"
   ]
  },
  {
   "cell_type": "markdown",
   "metadata": {},
   "source": [
    "## DATA WRANGLING / TRANSFORMATION"
   ]
  },
  {
   "cell_type": "markdown",
   "metadata": {},
   "source": [
    "let's create some council-level files for our 2018 and 2021 data, so as to ensure comparability. \n",
    "\n",
    "let's also save these files for future use. "
   ]
  },
  {
   "cell_type": "code",
   "execution_count": null,
   "metadata": {},
   "outputs": [],
   "source": []
  },
  {
   "cell_type": "code",
   "execution_count": null,
   "metadata": {},
   "outputs": [],
   "source": []
  },
  {
   "cell_type": "markdown",
   "metadata": {},
   "source": []
  }
 ],
 "metadata": {
  "kernelspec": {
   "display_name": "Python 3.10.0 ('.venv': venv)",
   "language": "python",
   "name": "python3"
  },
  "language_info": {
   "codemirror_mode": {
    "name": "ipython",
    "version": 3
   },
   "file_extension": ".py",
   "mimetype": "text/x-python",
   "name": "python",
   "nbconvert_exporter": "python",
   "pygments_lexer": "ipython3",
   "version": "3.10.0"
  },
  "orig_nbformat": 4,
  "vscode": {
   "interpreter": {
    "hash": "58c52b13dbc5f1e69e0da3788beabbc494ea151a784d51ab4dd9d84e69f54857"
   }
  }
 },
 "nbformat": 4,
 "nbformat_minor": 2
}
